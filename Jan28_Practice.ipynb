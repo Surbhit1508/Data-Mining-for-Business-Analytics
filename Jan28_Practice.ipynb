{
 "cells": [
  {
   "cell_type": "code",
   "execution_count": 4,
   "id": "5b517062-ace6-4b0d-b75f-62691a15ea28",
   "metadata": {},
   "outputs": [],
   "source": [
    "import pandas as pd\n",
    "import numpy as np\n",
    "import matplotlib as ml\n",
    "from sklearn.model_selection import train_test_split\n",
    "from sklearn.metrics import r2_score\n",
    "from sklearn.linear_model import LinearRegression\n",
    "from sklearn.preprocessing import StandardScaler"
   ]
  },
  {
   "cell_type": "code",
   "execution_count": 5,
   "id": "33f22085-354d-4ee4-a79b-fdd96243575c",
   "metadata": {},
   "outputs": [],
   "source": [
    "house_df = pd.read_csv(\"WestRoxbury.csv\")"
   ]
  },
  {
   "cell_type": "code",
   "execution_count": 3,
   "id": "b8150cf8-4561-4472-9bc0-ed01345e4f92",
   "metadata": {},
   "outputs": [
    {
     "data": {
      "text/html": [
       "<div>\n",
       "<style scoped>\n",
       "    .dataframe tbody tr th:only-of-type {\n",
       "        vertical-align: middle;\n",
       "    }\n",
       "\n",
       "    .dataframe tbody tr th {\n",
       "        vertical-align: top;\n",
       "    }\n",
       "\n",
       "    .dataframe thead th {\n",
       "        text-align: right;\n",
       "    }\n",
       "</style>\n",
       "<table border=\"1\" class=\"dataframe\">\n",
       "  <thead>\n",
       "    <tr style=\"text-align: right;\">\n",
       "      <th></th>\n",
       "      <th>TOTAL VALUE</th>\n",
       "      <th>TAX</th>\n",
       "      <th>LOT SQFT</th>\n",
       "      <th>YR BUILT</th>\n",
       "      <th>GROSS AREA</th>\n",
       "      <th>LIVING AREA</th>\n",
       "      <th>FLOORS</th>\n",
       "      <th>ROOMS</th>\n",
       "      <th>BEDROOMS</th>\n",
       "      <th>FULL BATH</th>\n",
       "      <th>HALF BATH</th>\n",
       "      <th>KITCHEN</th>\n",
       "      <th>FIREPLACE</th>\n",
       "      <th>REMODEL</th>\n",
       "    </tr>\n",
       "  </thead>\n",
       "  <tbody>\n",
       "    <tr>\n",
       "      <th>0</th>\n",
       "      <td>344.2</td>\n",
       "      <td>4330</td>\n",
       "      <td>9965</td>\n",
       "      <td>1880</td>\n",
       "      <td>2436</td>\n",
       "      <td>1352</td>\n",
       "      <td>2.0</td>\n",
       "      <td>6</td>\n",
       "      <td>3</td>\n",
       "      <td>1</td>\n",
       "      <td>1</td>\n",
       "      <td>1</td>\n",
       "      <td>0</td>\n",
       "      <td>NaN</td>\n",
       "    </tr>\n",
       "    <tr>\n",
       "      <th>1</th>\n",
       "      <td>412.6</td>\n",
       "      <td>5190</td>\n",
       "      <td>6590</td>\n",
       "      <td>1945</td>\n",
       "      <td>3108</td>\n",
       "      <td>1976</td>\n",
       "      <td>2.0</td>\n",
       "      <td>10</td>\n",
       "      <td>4</td>\n",
       "      <td>2</td>\n",
       "      <td>1</td>\n",
       "      <td>1</td>\n",
       "      <td>0</td>\n",
       "      <td>Recent</td>\n",
       "    </tr>\n",
       "    <tr>\n",
       "      <th>2</th>\n",
       "      <td>330.1</td>\n",
       "      <td>4152</td>\n",
       "      <td>7500</td>\n",
       "      <td>1890</td>\n",
       "      <td>2294</td>\n",
       "      <td>1371</td>\n",
       "      <td>2.0</td>\n",
       "      <td>8</td>\n",
       "      <td>4</td>\n",
       "      <td>1</td>\n",
       "      <td>1</td>\n",
       "      <td>1</td>\n",
       "      <td>0</td>\n",
       "      <td>NaN</td>\n",
       "    </tr>\n",
       "    <tr>\n",
       "      <th>3</th>\n",
       "      <td>498.6</td>\n",
       "      <td>6272</td>\n",
       "      <td>13773</td>\n",
       "      <td>1957</td>\n",
       "      <td>5032</td>\n",
       "      <td>2608</td>\n",
       "      <td>1.0</td>\n",
       "      <td>9</td>\n",
       "      <td>5</td>\n",
       "      <td>1</td>\n",
       "      <td>1</td>\n",
       "      <td>1</td>\n",
       "      <td>1</td>\n",
       "      <td>NaN</td>\n",
       "    </tr>\n",
       "    <tr>\n",
       "      <th>4</th>\n",
       "      <td>331.5</td>\n",
       "      <td>4170</td>\n",
       "      <td>5000</td>\n",
       "      <td>1910</td>\n",
       "      <td>2370</td>\n",
       "      <td>1438</td>\n",
       "      <td>2.0</td>\n",
       "      <td>7</td>\n",
       "      <td>3</td>\n",
       "      <td>2</td>\n",
       "      <td>0</td>\n",
       "      <td>1</td>\n",
       "      <td>0</td>\n",
       "      <td>NaN</td>\n",
       "    </tr>\n",
       "  </tbody>\n",
       "</table>\n",
       "</div>"
      ],
      "text/plain": [
       "   TOTAL VALUE    TAX  LOT SQFT   YR BUILT  GROSS AREA   LIVING AREA  FLOORS   \\\n",
       "0         344.2  4330       9965      1880         2436         1352      2.0   \n",
       "1         412.6  5190       6590      1945         3108         1976      2.0   \n",
       "2         330.1  4152       7500      1890         2294         1371      2.0   \n",
       "3         498.6  6272      13773      1957         5032         2608      1.0   \n",
       "4         331.5  4170       5000      1910         2370         1438      2.0   \n",
       "\n",
       "   ROOMS  BEDROOMS   FULL BATH  HALF BATH  KITCHEN  FIREPLACE REMODEL  \n",
       "0      6          3          1          1        1          0     NaN  \n",
       "1     10          4          2          1        1          0  Recent  \n",
       "2      8          4          1          1        1          0     NaN  \n",
       "3      9          5          1          1        1          1     NaN  \n",
       "4      7          3          2          0        1          0     NaN  "
      ]
     },
     "execution_count": 3,
     "metadata": {},
     "output_type": "execute_result"
    }
   ],
   "source": [
    "house_df.head()"
   ]
  },
  {
   "cell_type": "code",
   "execution_count": 4,
   "id": "f84aaea6-89d2-44c0-b551-2b18d82e9ccf",
   "metadata": {},
   "outputs": [
    {
     "data": {
      "text/plain": [
       "TOTAL VALUE     331.5\n",
       "TAX              4170\n",
       "LOT SQFT         5000\n",
       "YR BUILT         1910\n",
       "GROSS AREA       2370\n",
       "LIVING AREA      1438\n",
       "FLOORS            2.0\n",
       "ROOMS               7\n",
       "BEDROOMS            3\n",
       "FULL BATH           2\n",
       "HALF BATH           0\n",
       "KITCHEN             1\n",
       "FIREPLACE           0\n",
       "REMODEL           NaN\n",
       "Name: 4, dtype: object"
      ]
     },
     "execution_count": 4,
     "metadata": {},
     "output_type": "execute_result"
    }
   ],
   "source": [
    "house_df.iloc[4][0:]"
   ]
  },
  {
   "cell_type": "code",
   "execution_count": 5,
   "id": "5c1e1a28-1260-45a3-a0c2-75e6ea3486df",
   "metadata": {},
   "outputs": [
    {
     "data": {
      "text/html": [
       "<div>\n",
       "<style scoped>\n",
       "    .dataframe tbody tr th:only-of-type {\n",
       "        vertical-align: middle;\n",
       "    }\n",
       "\n",
       "    .dataframe tbody tr th {\n",
       "        vertical-align: top;\n",
       "    }\n",
       "\n",
       "    .dataframe thead th {\n",
       "        text-align: right;\n",
       "    }\n",
       "</style>\n",
       "<table border=\"1\" class=\"dataframe\">\n",
       "  <thead>\n",
       "    <tr style=\"text-align: right;\">\n",
       "      <th></th>\n",
       "      <th>TOTAL VALUE</th>\n",
       "      <th>TAX</th>\n",
       "      <th>LOT SQFT</th>\n",
       "      <th>YR BUILT</th>\n",
       "      <th>GROSS AREA</th>\n",
       "      <th>LIVING AREA</th>\n",
       "      <th>FLOORS</th>\n",
       "      <th>ROOMS</th>\n",
       "      <th>BEDROOMS</th>\n",
       "      <th>FULL BATH</th>\n",
       "      <th>HALF BATH</th>\n",
       "      <th>KITCHEN</th>\n",
       "      <th>FIREPLACE</th>\n",
       "    </tr>\n",
       "  </thead>\n",
       "  <tbody>\n",
       "    <tr>\n",
       "      <th>count</th>\n",
       "      <td>5802.000000</td>\n",
       "      <td>5802.000000</td>\n",
       "      <td>5802.000000</td>\n",
       "      <td>5802.000000</td>\n",
       "      <td>5802.000000</td>\n",
       "      <td>5802.000000</td>\n",
       "      <td>5802.000000</td>\n",
       "      <td>5802.000000</td>\n",
       "      <td>5802.000000</td>\n",
       "      <td>5802.000000</td>\n",
       "      <td>5802.000000</td>\n",
       "      <td>5802.00000</td>\n",
       "      <td>5802.000000</td>\n",
       "    </tr>\n",
       "    <tr>\n",
       "      <th>mean</th>\n",
       "      <td>392.685715</td>\n",
       "      <td>4939.485867</td>\n",
       "      <td>6278.083764</td>\n",
       "      <td>1936.744916</td>\n",
       "      <td>2924.842123</td>\n",
       "      <td>1657.065322</td>\n",
       "      <td>1.683730</td>\n",
       "      <td>6.994829</td>\n",
       "      <td>3.230093</td>\n",
       "      <td>1.296794</td>\n",
       "      <td>0.613926</td>\n",
       "      <td>1.01534</td>\n",
       "      <td>0.739917</td>\n",
       "    </tr>\n",
       "    <tr>\n",
       "      <th>std</th>\n",
       "      <td>99.177414</td>\n",
       "      <td>1247.649118</td>\n",
       "      <td>2669.707974</td>\n",
       "      <td>35.989910</td>\n",
       "      <td>883.984726</td>\n",
       "      <td>540.456726</td>\n",
       "      <td>0.444884</td>\n",
       "      <td>1.437657</td>\n",
       "      <td>0.846607</td>\n",
       "      <td>0.522040</td>\n",
       "      <td>0.533839</td>\n",
       "      <td>0.12291</td>\n",
       "      <td>0.565108</td>\n",
       "    </tr>\n",
       "    <tr>\n",
       "      <th>min</th>\n",
       "      <td>105.000000</td>\n",
       "      <td>1320.000000</td>\n",
       "      <td>997.000000</td>\n",
       "      <td>0.000000</td>\n",
       "      <td>821.000000</td>\n",
       "      <td>504.000000</td>\n",
       "      <td>1.000000</td>\n",
       "      <td>3.000000</td>\n",
       "      <td>1.000000</td>\n",
       "      <td>1.000000</td>\n",
       "      <td>0.000000</td>\n",
       "      <td>1.00000</td>\n",
       "      <td>0.000000</td>\n",
       "    </tr>\n",
       "    <tr>\n",
       "      <th>25%</th>\n",
       "      <td>325.125000</td>\n",
       "      <td>4089.500000</td>\n",
       "      <td>4772.000000</td>\n",
       "      <td>1920.000000</td>\n",
       "      <td>2347.000000</td>\n",
       "      <td>1308.000000</td>\n",
       "      <td>1.000000</td>\n",
       "      <td>6.000000</td>\n",
       "      <td>3.000000</td>\n",
       "      <td>1.000000</td>\n",
       "      <td>0.000000</td>\n",
       "      <td>1.00000</td>\n",
       "      <td>0.000000</td>\n",
       "    </tr>\n",
       "    <tr>\n",
       "      <th>50%</th>\n",
       "      <td>375.900000</td>\n",
       "      <td>4728.000000</td>\n",
       "      <td>5683.000000</td>\n",
       "      <td>1935.000000</td>\n",
       "      <td>2700.000000</td>\n",
       "      <td>1548.500000</td>\n",
       "      <td>2.000000</td>\n",
       "      <td>7.000000</td>\n",
       "      <td>3.000000</td>\n",
       "      <td>1.000000</td>\n",
       "      <td>1.000000</td>\n",
       "      <td>1.00000</td>\n",
       "      <td>1.000000</td>\n",
       "    </tr>\n",
       "    <tr>\n",
       "      <th>75%</th>\n",
       "      <td>438.775000</td>\n",
       "      <td>5519.500000</td>\n",
       "      <td>7022.250000</td>\n",
       "      <td>1955.000000</td>\n",
       "      <td>3239.000000</td>\n",
       "      <td>1873.750000</td>\n",
       "      <td>2.000000</td>\n",
       "      <td>8.000000</td>\n",
       "      <td>4.000000</td>\n",
       "      <td>2.000000</td>\n",
       "      <td>1.000000</td>\n",
       "      <td>1.00000</td>\n",
       "      <td>1.000000</td>\n",
       "    </tr>\n",
       "    <tr>\n",
       "      <th>max</th>\n",
       "      <td>1217.800000</td>\n",
       "      <td>15319.000000</td>\n",
       "      <td>46411.000000</td>\n",
       "      <td>2011.000000</td>\n",
       "      <td>8154.000000</td>\n",
       "      <td>5289.000000</td>\n",
       "      <td>3.000000</td>\n",
       "      <td>14.000000</td>\n",
       "      <td>9.000000</td>\n",
       "      <td>5.000000</td>\n",
       "      <td>3.000000</td>\n",
       "      <td>2.00000</td>\n",
       "      <td>4.000000</td>\n",
       "    </tr>\n",
       "  </tbody>\n",
       "</table>\n",
       "</div>"
      ],
      "text/plain": [
       "       TOTAL VALUE            TAX     LOT SQFT      YR BUILT  GROSS AREA   \\\n",
       "count   5802.000000   5802.000000   5802.000000  5802.000000  5802.000000   \n",
       "mean     392.685715   4939.485867   6278.083764  1936.744916  2924.842123   \n",
       "std       99.177414   1247.649118   2669.707974    35.989910   883.984726   \n",
       "min      105.000000   1320.000000    997.000000     0.000000   821.000000   \n",
       "25%      325.125000   4089.500000   4772.000000  1920.000000  2347.000000   \n",
       "50%      375.900000   4728.000000   5683.000000  1935.000000  2700.000000   \n",
       "75%      438.775000   5519.500000   7022.250000  1955.000000  3239.000000   \n",
       "max     1217.800000  15319.000000  46411.000000  2011.000000  8154.000000   \n",
       "\n",
       "       LIVING AREA      FLOORS         ROOMS    BEDROOMS     FULL BATH  \\\n",
       "count  5802.000000  5802.000000  5802.000000  5802.000000  5802.000000   \n",
       "mean   1657.065322     1.683730     6.994829     3.230093     1.296794   \n",
       "std     540.456726     0.444884     1.437657     0.846607     0.522040   \n",
       "min     504.000000     1.000000     3.000000     1.000000     1.000000   \n",
       "25%    1308.000000     1.000000     6.000000     3.000000     1.000000   \n",
       "50%    1548.500000     2.000000     7.000000     3.000000     1.000000   \n",
       "75%    1873.750000     2.000000     8.000000     4.000000     2.000000   \n",
       "max    5289.000000     3.000000    14.000000     9.000000     5.000000   \n",
       "\n",
       "         HALF BATH     KITCHEN    FIREPLACE  \n",
       "count  5802.000000  5802.00000  5802.000000  \n",
       "mean      0.613926     1.01534     0.739917  \n",
       "std       0.533839     0.12291     0.565108  \n",
       "min       0.000000     1.00000     0.000000  \n",
       "25%       0.000000     1.00000     0.000000  \n",
       "50%       1.000000     1.00000     1.000000  \n",
       "75%       1.000000     1.00000     1.000000  \n",
       "max       3.000000     2.00000     4.000000  "
      ]
     },
     "execution_count": 5,
     "metadata": {},
     "output_type": "execute_result"
    }
   ],
   "source": [
    "house_df.describe()"
   ]
  },
  {
   "cell_type": "code",
   "execution_count": 6,
   "id": "bbc38d6f-83ec-481b-933f-8138d9bc9162",
   "metadata": {},
   "outputs": [
    {
     "name": "stdout",
     "output_type": "stream",
     "text": [
      "<class 'pandas.core.frame.DataFrame'>\n",
      "RangeIndex: 5802 entries, 0 to 5801\n",
      "Data columns (total 14 columns):\n",
      " #   Column        Non-Null Count  Dtype  \n",
      "---  ------        --------------  -----  \n",
      " 0   TOTAL VALUE   5802 non-null   float64\n",
      " 1   TAX           5802 non-null   int64  \n",
      " 2   LOT SQFT      5802 non-null   int64  \n",
      " 3   YR BUILT      5802 non-null   int64  \n",
      " 4   GROSS AREA    5802 non-null   int64  \n",
      " 5   LIVING AREA   5802 non-null   int64  \n",
      " 6   FLOORS        5802 non-null   float64\n",
      " 7   ROOMS         5802 non-null   int64  \n",
      " 8   BEDROOMS      5802 non-null   int64  \n",
      " 9   FULL BATH     5802 non-null   int64  \n",
      " 10  HALF BATH     5802 non-null   int64  \n",
      " 11  KITCHEN       5802 non-null   int64  \n",
      " 12  FIREPLACE     5802 non-null   int64  \n",
      " 13  REMODEL       1456 non-null   object \n",
      "dtypes: float64(2), int64(11), object(1)\n",
      "memory usage: 634.7+ KB\n"
     ]
    }
   ],
   "source": [
    "house_df.info()"
   ]
  },
  {
   "cell_type": "code",
   "execution_count": 11,
   "id": "897e065c-9eda-4af7-9942-be633773eae8",
   "metadata": {},
   "outputs": [],
   "source": [
    "total_mean = house_df['TAX'].mean()"
   ]
  },
  {
   "cell_type": "code",
   "execution_count": 12,
   "id": "0dee76b8-c9de-4dcd-9e4f-a1b777c15a49",
   "metadata": {},
   "outputs": [
    {
     "name": "stdout",
     "output_type": "stream",
     "text": [
      "4939.485866942434\n"
     ]
    }
   ],
   "source": [
    "print(total_mean)"
   ]
  },
  {
   "cell_type": "code",
   "execution_count": 14,
   "id": "593bef64-59d0-433f-a10b-7eadd7e30e82",
   "metadata": {},
   "outputs": [
    {
     "name": "stdout",
     "output_type": "stream",
     "text": [
      "5802\n"
     ]
    }
   ],
   "source": [
    "total_rows = len(house_df[\"TAX\"])\n",
    "print(total_rows)"
   ]
  },
  {
   "cell_type": "code",
   "execution_count": 15,
   "id": "c63b1264-e87e-4005-96ce-417a8d612ee0",
   "metadata": {},
   "outputs": [
    {
     "data": {
      "text/plain": [
       "(5802, 14)"
      ]
     },
     "execution_count": 15,
     "metadata": {},
     "output_type": "execute_result"
    }
   ],
   "source": [
    "house_df.shape"
   ]
  },
  {
   "cell_type": "code",
   "execution_count": 23,
   "id": "c76bbede-c072-4f6c-8a4d-313d535ac8da",
   "metadata": {},
   "outputs": [
    {
     "data": {
      "text/html": [
       "<div>\n",
       "<style scoped>\n",
       "    .dataframe tbody tr th:only-of-type {\n",
       "        vertical-align: middle;\n",
       "    }\n",
       "\n",
       "    .dataframe tbody tr th {\n",
       "        vertical-align: top;\n",
       "    }\n",
       "\n",
       "    .dataframe thead th {\n",
       "        text-align: right;\n",
       "    }\n",
       "</style>\n",
       "<table border=\"1\" class=\"dataframe\">\n",
       "  <thead>\n",
       "    <tr style=\"text-align: right;\">\n",
       "      <th></th>\n",
       "      <th>TOTAL VALUE</th>\n",
       "      <th>TAX</th>\n",
       "      <th>LOT SQFT</th>\n",
       "      <th>YR BUILT</th>\n",
       "      <th>GROSS AREA</th>\n",
       "      <th>LIVING AREA</th>\n",
       "      <th>FLOORS</th>\n",
       "      <th>ROOMS</th>\n",
       "      <th>BEDROOMS</th>\n",
       "      <th>FULL BATH</th>\n",
       "      <th>HALF BATH</th>\n",
       "      <th>KITCHEN</th>\n",
       "      <th>FIREPLACE</th>\n",
       "      <th>REMODEL</th>\n",
       "    </tr>\n",
       "  </thead>\n",
       "  <tbody>\n",
       "    <tr>\n",
       "      <th>1947</th>\n",
       "      <td>448.8</td>\n",
       "      <td>5645</td>\n",
       "      <td>10585</td>\n",
       "      <td>1950</td>\n",
       "      <td>4770</td>\n",
       "      <td>1806</td>\n",
       "      <td>1.0</td>\n",
       "      <td>8</td>\n",
       "      <td>3</td>\n",
       "      <td>3</td>\n",
       "      <td>0</td>\n",
       "      <td>2</td>\n",
       "      <td>1</td>\n",
       "      <td>Old</td>\n",
       "    </tr>\n",
       "    <tr>\n",
       "      <th>936</th>\n",
       "      <td>351.4</td>\n",
       "      <td>4420</td>\n",
       "      <td>10690</td>\n",
       "      <td>1950</td>\n",
       "      <td>3539</td>\n",
       "      <td>1625</td>\n",
       "      <td>1.0</td>\n",
       "      <td>6</td>\n",
       "      <td>3</td>\n",
       "      <td>1</td>\n",
       "      <td>0</td>\n",
       "      <td>1</td>\n",
       "      <td>1</td>\n",
       "      <td>NaN</td>\n",
       "    </tr>\n",
       "    <tr>\n",
       "      <th>4243</th>\n",
       "      <td>478.9</td>\n",
       "      <td>6024</td>\n",
       "      <td>8528</td>\n",
       "      <td>1925</td>\n",
       "      <td>3630</td>\n",
       "      <td>2055</td>\n",
       "      <td>2.0</td>\n",
       "      <td>8</td>\n",
       "      <td>3</td>\n",
       "      <td>1</td>\n",
       "      <td>1</td>\n",
       "      <td>1</td>\n",
       "      <td>1</td>\n",
       "      <td>Old</td>\n",
       "    </tr>\n",
       "    <tr>\n",
       "      <th>3442</th>\n",
       "      <td>559.0</td>\n",
       "      <td>7032</td>\n",
       "      <td>5532</td>\n",
       "      <td>1892</td>\n",
       "      <td>4298</td>\n",
       "      <td>2525</td>\n",
       "      <td>2.5</td>\n",
       "      <td>9</td>\n",
       "      <td>5</td>\n",
       "      <td>4</td>\n",
       "      <td>1</td>\n",
       "      <td>1</td>\n",
       "      <td>1</td>\n",
       "      <td>Recent</td>\n",
       "    </tr>\n",
       "    <tr>\n",
       "      <th>2170</th>\n",
       "      <td>422.2</td>\n",
       "      <td>5311</td>\n",
       "      <td>6777</td>\n",
       "      <td>1890</td>\n",
       "      <td>3535</td>\n",
       "      <td>2053</td>\n",
       "      <td>2.5</td>\n",
       "      <td>7</td>\n",
       "      <td>3</td>\n",
       "      <td>1</td>\n",
       "      <td>1</td>\n",
       "      <td>1</td>\n",
       "      <td>1</td>\n",
       "      <td>NaN</td>\n",
       "    </tr>\n",
       "  </tbody>\n",
       "</table>\n",
       "</div>"
      ],
      "text/plain": [
       "      TOTAL VALUE    TAX  LOT SQFT   YR BUILT  GROSS AREA   LIVING AREA  \\\n",
       "1947         448.8  5645      10585      1950         4770         1806   \n",
       "936          351.4  4420      10690      1950         3539         1625   \n",
       "4243         478.9  6024       8528      1925         3630         2055   \n",
       "3442         559.0  7032       5532      1892         4298         2525   \n",
       "2170         422.2  5311       6777      1890         3535         2053   \n",
       "\n",
       "      FLOORS   ROOMS  BEDROOMS   FULL BATH  HALF BATH  KITCHEN  FIREPLACE  \\\n",
       "1947      1.0      8          3          3          0        2          1   \n",
       "936       1.0      6          3          1          0        1          1   \n",
       "4243      2.0      8          3          1          1        1          1   \n",
       "3442      2.5      9          5          4          1        1          1   \n",
       "2170      2.5      7          3          1          1        1          1   \n",
       "\n",
       "     REMODEL  \n",
       "1947     Old  \n",
       "936      NaN  \n",
       "4243     Old  \n",
       "3442  Recent  \n",
       "2170     NaN  "
      ]
     },
     "execution_count": 23,
     "metadata": {},
     "output_type": "execute_result"
    }
   ],
   "source": [
    "house_df.sample(5)"
   ]
  },
  {
   "cell_type": "code",
   "execution_count": 20,
   "id": "6238d1c9-fd81-4cff-b992-40c32206c9e3",
   "metadata": {},
   "outputs": [
    {
     "data": {
      "text/html": [
       "<div>\n",
       "<style scoped>\n",
       "    .dataframe tbody tr th:only-of-type {\n",
       "        vertical-align: middle;\n",
       "    }\n",
       "\n",
       "    .dataframe tbody tr th {\n",
       "        vertical-align: top;\n",
       "    }\n",
       "\n",
       "    .dataframe thead th {\n",
       "        text-align: right;\n",
       "    }\n",
       "</style>\n",
       "<table border=\"1\" class=\"dataframe\">\n",
       "  <thead>\n",
       "    <tr style=\"text-align: right;\">\n",
       "      <th></th>\n",
       "      <th>TOTAL VALUE</th>\n",
       "      <th>TAX</th>\n",
       "      <th>LOT SQFT</th>\n",
       "      <th>YR BUILT</th>\n",
       "      <th>GROSS AREA</th>\n",
       "      <th>LIVING AREA</th>\n",
       "      <th>FLOORS</th>\n",
       "      <th>ROOMS</th>\n",
       "      <th>BEDROOMS</th>\n",
       "      <th>FULL BATH</th>\n",
       "      <th>HALF BATH</th>\n",
       "      <th>KITCHEN</th>\n",
       "      <th>FIREPLACE</th>\n",
       "      <th>REMODEL</th>\n",
       "    </tr>\n",
       "  </thead>\n",
       "  <tbody>\n",
       "    <tr>\n",
       "      <th>2696</th>\n",
       "      <td>285.7</td>\n",
       "      <td>3594</td>\n",
       "      <td>7475</td>\n",
       "      <td>1955</td>\n",
       "      <td>1882</td>\n",
       "      <td>861</td>\n",
       "      <td>1.0</td>\n",
       "      <td>6</td>\n",
       "      <td>3</td>\n",
       "      <td>1</td>\n",
       "      <td>1</td>\n",
       "      <td>1</td>\n",
       "      <td>0</td>\n",
       "      <td>NaN</td>\n",
       "    </tr>\n",
       "    <tr>\n",
       "      <th>4657</th>\n",
       "      <td>791.6</td>\n",
       "      <td>9958</td>\n",
       "      <td>7629</td>\n",
       "      <td>1890</td>\n",
       "      <td>6321</td>\n",
       "      <td>3521</td>\n",
       "      <td>2.0</td>\n",
       "      <td>12</td>\n",
       "      <td>6</td>\n",
       "      <td>4</td>\n",
       "      <td>1</td>\n",
       "      <td>1</td>\n",
       "      <td>2</td>\n",
       "      <td>Recent</td>\n",
       "    </tr>\n",
       "    <tr>\n",
       "      <th>3871</th>\n",
       "      <td>576.1</td>\n",
       "      <td>7247</td>\n",
       "      <td>6501</td>\n",
       "      <td>1920</td>\n",
       "      <td>5197</td>\n",
       "      <td>3636</td>\n",
       "      <td>3.0</td>\n",
       "      <td>12</td>\n",
       "      <td>4</td>\n",
       "      <td>3</td>\n",
       "      <td>1</td>\n",
       "      <td>2</td>\n",
       "      <td>1</td>\n",
       "      <td>Old</td>\n",
       "    </tr>\n",
       "    <tr>\n",
       "      <th>3318</th>\n",
       "      <td>775.5</td>\n",
       "      <td>9755</td>\n",
       "      <td>13750</td>\n",
       "      <td>1900</td>\n",
       "      <td>6633</td>\n",
       "      <td>3906</td>\n",
       "      <td>2.0</td>\n",
       "      <td>12</td>\n",
       "      <td>7</td>\n",
       "      <td>1</td>\n",
       "      <td>2</td>\n",
       "      <td>1</td>\n",
       "      <td>0</td>\n",
       "      <td>Recent</td>\n",
       "    </tr>\n",
       "    <tr>\n",
       "      <th>3182</th>\n",
       "      <td>718.2</td>\n",
       "      <td>9034</td>\n",
       "      <td>19180</td>\n",
       "      <td>1918</td>\n",
       "      <td>6565</td>\n",
       "      <td>3564</td>\n",
       "      <td>2.5</td>\n",
       "      <td>11</td>\n",
       "      <td>4</td>\n",
       "      <td>2</td>\n",
       "      <td>2</td>\n",
       "      <td>1</td>\n",
       "      <td>0</td>\n",
       "      <td>NaN</td>\n",
       "    </tr>\n",
       "  </tbody>\n",
       "</table>\n",
       "</div>"
      ],
      "text/plain": [
       "      TOTAL VALUE    TAX  LOT SQFT   YR BUILT  GROSS AREA   LIVING AREA  \\\n",
       "2696         285.7  3594       7475      1955         1882          861   \n",
       "4657         791.6  9958       7629      1890         6321         3521   \n",
       "3871         576.1  7247       6501      1920         5197         3636   \n",
       "3318         775.5  9755      13750      1900         6633         3906   \n",
       "3182         718.2  9034      19180      1918         6565         3564   \n",
       "\n",
       "      FLOORS   ROOMS  BEDROOMS   FULL BATH  HALF BATH  KITCHEN  FIREPLACE  \\\n",
       "2696      1.0      6          3          1          1        1          0   \n",
       "4657      2.0     12          6          4          1        1          2   \n",
       "3871      3.0     12          4          3          1        2          1   \n",
       "3318      2.0     12          7          1          2        1          0   \n",
       "3182      2.5     11          4          2          2        1          0   \n",
       "\n",
       "     REMODEL  \n",
       "2696     NaN  \n",
       "4657  Recent  \n",
       "3871     Old  \n",
       "3318  Recent  \n",
       "3182     NaN  "
      ]
     },
     "execution_count": 20,
     "metadata": {},
     "output_type": "execute_result"
    }
   ],
   "source": [
    "weights = [0.9 if rooms > 10 else 0.01 for rooms in house_df.ROOMS] # This is craeting a list of weights\n",
    "\n",
    "# This is a good practice to do in data mining as it will help \n",
    "#u to not miss any data that might be an outlier.\n",
    "house_df.sample(5, weights = weights)\n",
    "\n",
    "#This is used in order to get that data that is likely to cause the algo crash or might increase the error rate bcz these are kind of outliers \n",
    "#that are there in the data by doing this we are doing over/under sampling as this it will increase the chance (0.9 = 90%) of showing \n",
    "#of rooms with more than 10 rooms that might be omitted while training the data and can cause errors afterwards."
   ]
  },
  {
   "cell_type": "code",
   "execution_count": 25,
   "id": "5431ab70-9034-4f66-a1ec-7efb0150061c",
   "metadata": {},
   "outputs": [
    {
     "data": {
      "text/html": [
       "<div>\n",
       "<style scoped>\n",
       "    .dataframe tbody tr th:only-of-type {\n",
       "        vertical-align: middle;\n",
       "    }\n",
       "\n",
       "    .dataframe tbody tr th {\n",
       "        vertical-align: top;\n",
       "    }\n",
       "\n",
       "    .dataframe thead th {\n",
       "        text-align: right;\n",
       "    }\n",
       "</style>\n",
       "<table border=\"1\" class=\"dataframe\">\n",
       "  <thead>\n",
       "    <tr style=\"text-align: right;\">\n",
       "      <th></th>\n",
       "      <th>TOTAL VALUE</th>\n",
       "      <th>TAX</th>\n",
       "      <th>LOT SQFT</th>\n",
       "      <th>YR BUILT</th>\n",
       "      <th>GROSS AREA</th>\n",
       "      <th>LIVING AREA</th>\n",
       "      <th>FLOORS</th>\n",
       "      <th>ROOMS</th>\n",
       "      <th>BEDROOMS</th>\n",
       "      <th>FULL BATH</th>\n",
       "      <th>HALF BATH</th>\n",
       "      <th>KITCHEN</th>\n",
       "      <th>FIREPLACE</th>\n",
       "      <th>REMODEL</th>\n",
       "    </tr>\n",
       "  </thead>\n",
       "  <tbody>\n",
       "    <tr>\n",
       "      <th>2494</th>\n",
       "      <td>660.0</td>\n",
       "      <td>8302</td>\n",
       "      <td>13650</td>\n",
       "      <td>1924</td>\n",
       "      <td>5192</td>\n",
       "      <td>2640</td>\n",
       "      <td>2.0</td>\n",
       "      <td>13</td>\n",
       "      <td>7</td>\n",
       "      <td>2</td>\n",
       "      <td>1</td>\n",
       "      <td>1</td>\n",
       "      <td>2</td>\n",
       "      <td>Recent</td>\n",
       "    </tr>\n",
       "    <tr>\n",
       "      <th>2909</th>\n",
       "      <td>730.1</td>\n",
       "      <td>9184</td>\n",
       "      <td>8631</td>\n",
       "      <td>1907</td>\n",
       "      <td>5722</td>\n",
       "      <td>3250</td>\n",
       "      <td>2.0</td>\n",
       "      <td>12</td>\n",
       "      <td>5</td>\n",
       "      <td>2</td>\n",
       "      <td>1</td>\n",
       "      <td>1</td>\n",
       "      <td>2</td>\n",
       "      <td>NaN</td>\n",
       "    </tr>\n",
       "    <tr>\n",
       "      <th>406</th>\n",
       "      <td>332.4</td>\n",
       "      <td>4181</td>\n",
       "      <td>7889</td>\n",
       "      <td>1960</td>\n",
       "      <td>3588</td>\n",
       "      <td>1939</td>\n",
       "      <td>1.5</td>\n",
       "      <td>8</td>\n",
       "      <td>4</td>\n",
       "      <td>2</td>\n",
       "      <td>0</td>\n",
       "      <td>1</td>\n",
       "      <td>1</td>\n",
       "      <td>NaN</td>\n",
       "    </tr>\n",
       "    <tr>\n",
       "      <th>4582</th>\n",
       "      <td>520.9</td>\n",
       "      <td>6552</td>\n",
       "      <td>8297</td>\n",
       "      <td>1880</td>\n",
       "      <td>3716</td>\n",
       "      <td>2344</td>\n",
       "      <td>2.0</td>\n",
       "      <td>7</td>\n",
       "      <td>4</td>\n",
       "      <td>1</td>\n",
       "      <td>0</td>\n",
       "      <td>1</td>\n",
       "      <td>1</td>\n",
       "      <td>NaN</td>\n",
       "    </tr>\n",
       "    <tr>\n",
       "      <th>4151</th>\n",
       "      <td>996.9</td>\n",
       "      <td>12541</td>\n",
       "      <td>10050</td>\n",
       "      <td>2006</td>\n",
       "      <td>5392</td>\n",
       "      <td>4375</td>\n",
       "      <td>2.0</td>\n",
       "      <td>11</td>\n",
       "      <td>4</td>\n",
       "      <td>4</td>\n",
       "      <td>0</td>\n",
       "      <td>1</td>\n",
       "      <td>1</td>\n",
       "      <td>NaN</td>\n",
       "    </tr>\n",
       "  </tbody>\n",
       "</table>\n",
       "</div>"
      ],
      "text/plain": [
       "      TOTAL VALUE     TAX  LOT SQFT   YR BUILT  GROSS AREA   LIVING AREA  \\\n",
       "2494         660.0   8302      13650      1924         5192         2640   \n",
       "2909         730.1   9184       8631      1907         5722         3250   \n",
       "406          332.4   4181       7889      1960         3588         1939   \n",
       "4582         520.9   6552       8297      1880         3716         2344   \n",
       "4151         996.9  12541      10050      2006         5392         4375   \n",
       "\n",
       "      FLOORS   ROOMS  BEDROOMS   FULL BATH  HALF BATH  KITCHEN  FIREPLACE  \\\n",
       "2494      2.0     13          7          2          1        1          2   \n",
       "2909      2.0     12          5          2          1        1          2   \n",
       "406       1.5      8          4          2          0        1          1   \n",
       "4582      2.0      7          4          1          0        1          1   \n",
       "4151      2.0     11          4          4          0        1          1   \n",
       "\n",
       "     REMODEL  \n",
       "2494  Recent  \n",
       "2909     NaN  \n",
       "406      NaN  \n",
       "4582     NaN  \n",
       "4151     NaN  "
      ]
     },
     "execution_count": 25,
     "metadata": {},
     "output_type": "execute_result"
    }
   ],
   "source": [
    "weights = [] # empty list\n",
    "\n",
    "for rooms in house_df.ROOMS:\n",
    "    if rooms > 10:\n",
    "        weights.append(0.9)\n",
    "    else:\n",
    "        weights.append(0.01)\n",
    "\n",
    "\n",
    "house_df.sample(5, weights = weights)"
   ]
  },
  {
   "cell_type": "code",
   "execution_count": 52,
   "id": "178e67bc-6f68-49a9-8963-ad4893b6bfb1",
   "metadata": {},
   "outputs": [
    {
     "data": {
      "text/plain": [
       "Index(['TOTAL VALUE ', 'TAX', 'LOT SQFT ', 'YR BUILT', 'GROSS AREA ',\n",
       "       'LIVING AREA', 'FLOORS ', 'ROOMS', 'BEDROOMS ', 'FULL BATH',\n",
       "       'HALF BATH', 'KITCHEN', 'FIREPLACE', 'REMODEL _Recent'],\n",
       "      dtype='object')"
      ]
     },
     "execution_count": 52,
     "metadata": {},
     "output_type": "execute_result"
    }
   ],
   "source": [
    "house_df.columns"
   ]
  },
  {
   "cell_type": "code",
   "execution_count": 30,
   "id": "6f76b2dd-d427-4482-a7db-f3bd0cfcb7b9",
   "metadata": {},
   "outputs": [
    {
     "name": "stdout",
     "output_type": "stream",
     "text": [
      "[dtype('float64'), dtype('int64'), dtype('int64'), dtype('int64'), dtype('int64'), dtype('int64'), dtype('float64'), dtype('int64'), dtype('int64'), dtype('int64'), dtype('int64'), dtype('int64'), dtype('int64'), dtype('O')]\n"
     ]
    }
   ],
   "source": [
    "indexes = []\n",
    "\n",
    "for i in house_df.head():\n",
    "    indexes.append(house_df[i].dtype)\n",
    "\n",
    "print(indexes)\n",
    "\n",
    "#Can show all the indexes's dtype there."
   ]
  },
  {
   "cell_type": "code",
   "execution_count": 19,
   "id": "d5b47a4a-d74e-4527-af6a-d998274109d1",
   "metadata": {},
   "outputs": [
    {
     "data": {
      "text/plain": [
       "Index(['Old', 'Recent'], dtype='object')"
      ]
     },
     "execution_count": 19,
     "metadata": {},
     "output_type": "execute_result"
    }
   ],
   "source": [
    "# To convert a varibale into Categorical Variable\n",
    "house_df.REMODEL = house_df.REMODEL.astype(\"category\")\n",
    "house_df.REMODEL.cat.categories"
   ]
  },
  {
   "cell_type": "code",
   "execution_count": 39,
   "id": "6dfa5b25-9218-4cc5-87cf-4d25ca510102",
   "metadata": {},
   "outputs": [
    {
     "data": {
      "text/plain": [
       "CategoricalDtype(categories=['Old', 'Recent'], ordered=False, categories_dtype=object)"
      ]
     },
     "execution_count": 39,
     "metadata": {},
     "output_type": "execute_result"
    }
   ],
   "source": [
    "house_df.REMODEL.dtype"
   ]
  },
  {
   "cell_type": "code",
   "execution_count": 49,
   "id": "f0eff1c8-1e48-45e7-b59e-dfb40f8afb12",
   "metadata": {},
   "outputs": [
    {
     "name": "stdout",
     "output_type": "stream",
     "text": [
      "[dtype('float64'), dtype('int64'), dtype('int64'), dtype('int64'), dtype('int64'), dtype('int64'), dtype('float64'), dtype('int64'), dtype('int64'), dtype('int64'), dtype('int64'), dtype('int64'), dtype('int64'), dtype('bool')]\n"
     ]
    }
   ],
   "source": [
    "indexes = []\n",
    "\n",
    "for i in house_df.head():\n",
    "    indexes.append(house_df[i].dtype)\n",
    "\n",
    "print(indexes)"
   ]
  },
  {
   "cell_type": "code",
   "execution_count": 42,
   "id": "377cf63f-3d95-405f-a13e-ed4df5d42da0",
   "metadata": {},
   "outputs": [],
   "source": [
    "house_df = pd.get_dummies(house_df, prefix_sep=\" _\", drop_first= True)"
   ]
  },
  {
   "cell_type": "code",
   "execution_count": 50,
   "id": "107276e9-c6f9-407e-a76e-f3571b56716e",
   "metadata": {},
   "outputs": [
    {
     "data": {
      "text/plain": [
       "Index(['TOTAL VALUE ', 'TAX', 'LOT SQFT ', 'YR BUILT', 'GROSS AREA ',\n",
       "       'LIVING AREA', 'FLOORS ', 'ROOMS', 'BEDROOMS ', 'FULL BATH',\n",
       "       'HALF BATH', 'KITCHEN', 'FIREPLACE', 'REMODEL _Recent'],\n",
       "      dtype='object')"
      ]
     },
     "execution_count": 50,
     "metadata": {},
     "output_type": "execute_result"
    }
   ],
   "source": [
    "house_df.columns"
   ]
  },
  {
   "cell_type": "code",
   "execution_count": 53,
   "id": "97c7767b-4faf-43bc-b230-993c068de393",
   "metadata": {},
   "outputs": [
    {
     "name": "stdout",
     "output_type": "stream",
     "text": [
      "[False  True]\n"
     ]
    }
   ],
   "source": [
    "print(house_df['REMODEL _Recent'].unique())"
   ]
  },
  {
   "cell_type": "code",
   "execution_count": 55,
   "id": "f5cd6405-bb77-4f09-8385-6a389e3a3f2d",
   "metadata": {},
   "outputs": [],
   "source": [
    "house_df = house_df.rename(columns={\"REMODEL _Recent\" : \"REMODEL_New\"})"
   ]
  },
  {
   "cell_type": "code",
   "execution_count": 57,
   "id": "74c53e6c-da4c-4d93-9e87-a6d2377f2d89",
   "metadata": {},
   "outputs": [],
   "source": [
    "house_df = house_df.astype({'REMODEL_New': 'int'})"
   ]
  },
  {
   "cell_type": "code",
   "execution_count": 59,
   "id": "1729416b-a304-4f0f-8427-4393ee87cf54",
   "metadata": {},
   "outputs": [
    {
     "name": "stdout",
     "output_type": "stream",
     "text": [
      "[dtype('float64'), dtype('int64'), dtype('int64'), dtype('int64'), dtype('int64'), dtype('int64'), dtype('float64'), dtype('int64'), dtype('int64'), dtype('int64'), dtype('int64'), dtype('int64'), dtype('int64'), dtype('int64')]\n"
     ]
    }
   ],
   "source": [
    "indexes = []\n",
    "\n",
    "for i in house_df.head():\n",
    "    indexes.append(house_df[i].dtype)\n",
    "\n",
    "print(indexes)"
   ]
  },
  {
   "cell_type": "code",
   "execution_count": 60,
   "id": "324f9433-15fe-431f-8525-f1e49c9b0141",
   "metadata": {},
   "outputs": [
    {
     "data": {
      "text/plain": [
       "0       0\n",
       "1       1\n",
       "2       0\n",
       "3       0\n",
       "4       0\n",
       "       ..\n",
       "5797    1\n",
       "5798    0\n",
       "5799    0\n",
       "5800    0\n",
       "5801    0\n",
       "Name: REMODEL_New, Length: 5802, dtype: int64"
      ]
     },
     "execution_count": 60,
     "metadata": {},
     "output_type": "execute_result"
    }
   ],
   "source": [
    "house_df.REMODEL_New"
   ]
  },
  {
   "cell_type": "code",
   "execution_count": 69,
   "id": "5ecff920-253a-4760-bfb9-b73e9e491d7a",
   "metadata": {},
   "outputs": [
    {
     "name": "stdout",
     "output_type": "stream",
     "text": [
      "5802\n"
     ]
    }
   ],
   "source": [
    "# TO FIND THE MISSING VALUES\n",
    "\n",
    "missingRows = house_df.sample(10).index\n",
    "house_df.loc[missingRows, \"BEDROOMS\"] = np.nan\n",
    "\n",
    "print(house_df['BEDROOMS'].isna().sum())  # Should show 10 missing values"
   ]
  },
  {
   "cell_type": "code",
   "execution_count": 67,
   "id": "9c7a5aed-c0ee-4954-9296-38cbc6140871",
   "metadata": {},
   "outputs": [
    {
     "name": "stdout",
     "output_type": "stream",
     "text": [
      "the number of rows after removing rows with missing values after setting to NAN:  0\n"
     ]
    }
   ],
   "source": [
    "print(\"the number of rows after removing rows with missing values after setting to NAN: \", house_df.BEDROOMS.count())"
   ]
  },
  {
   "cell_type": "code",
   "execution_count": 68,
   "id": "6b17b417-9ad3-4355-a09a-e6bbc3250683",
   "metadata": {},
   "outputs": [
    {
     "name": "stdout",
     "output_type": "stream",
     "text": [
      "the number of rows after removing rows with missing values : 0\n"
     ]
    }
   ],
   "source": [
    "# Remove rows with missing values \n",
    "reduced_df = house_df.dropna()\n",
    "print(\"the number of rows after removing rows with missing values :\", len(reduced_df))"
   ]
  },
  {
   "cell_type": "code",
   "execution_count": 70,
   "id": "877cfc2f-1949-48e6-a436-6d05e827abb9",
   "metadata": {},
   "outputs": [
    {
     "name": "stdout",
     "output_type": "stream",
     "text": [
      "float64\n",
      "0   NaN\n",
      "1   NaN\n",
      "2   NaN\n",
      "3   NaN\n",
      "4   NaN\n",
      "Name: BEDROOMS, dtype: float64\n",
      "[nan]\n"
     ]
    }
   ],
   "source": [
    "# Check the data type of BEDROOMS column\n",
    "print(house_df['BEDROOMS'].dtype)\n",
    "\n",
    "# Look at the first few rows of just the BEDROOMS column\n",
    "print(house_df['BEDROOMS'].head())\n",
    "\n",
    "# Look at the unique values in BEDROOMS\n",
    "print(house_df['BEDROOMS'].unique())"
   ]
  },
  {
   "cell_type": "code",
   "execution_count": 71,
   "id": "1fee94cb-615c-4f15-9d02-7b04a6200860",
   "metadata": {},
   "outputs": [
    {
     "name": "stdout",
     "output_type": "stream",
     "text": [
      "5802\n"
     ]
    }
   ],
   "source": [
    "import numpy as np\n",
    "\n",
    "# Create 10 missing values\n",
    "missingRows = house_df.sample(10).index\n",
    "house_df.loc[missingRows, 'BEDROOMS'] = np.nan\n",
    "\n",
    "# Verify the number of missing values\n",
    "print(house_df['BEDROOMS'].isna().sum())  # Should now show 10"
   ]
  },
  {
   "cell_type": "code",
   "execution_count": 72,
   "id": "3579fd2a-37f1-4c68-a16d-fd0a55e1e930",
   "metadata": {},
   "outputs": [
    {
     "name": "stdout",
     "output_type": "stream",
     "text": [
      "First few values:\n",
      "0   NaN\n",
      "1   NaN\n",
      "2   NaN\n",
      "3   NaN\n",
      "4   NaN\n",
      "Name: BEDROOMS, dtype: float64\n",
      "\n",
      "Data type: float64\n",
      "\n",
      "Exact column names:\n",
      "['BEDROOMS ', 'BEDROOMS']\n"
     ]
    }
   ],
   "source": [
    "# Check the first few values and their type\n",
    "print(\"First few values:\")\n",
    "print(house_df['BEDROOMS'].head())\n",
    "print(\"\\nData type:\", house_df['BEDROOMS'].dtype)\n",
    "\n",
    "# Check if there's a space in the column name\n",
    "print(\"\\nExact column names:\")\n",
    "print([col for col in house_df.columns if 'BEDROOM' in col])"
   ]
  },
  {
   "cell_type": "code",
   "execution_count": 73,
   "id": "0c73cc23-2e3f-4ba1-b1e0-c8fe771a0ad9",
   "metadata": {},
   "outputs": [
    {
     "name": "stdout",
     "output_type": "stream",
     "text": [
      "\n",
      "Number of missing values: 10\n"
     ]
    }
   ],
   "source": [
    "# If 'BEDROOMS ' has a space at the end (I noticed this in your earlier output)\n",
    "# Let's try to properly access it\n",
    "house_df['BEDROOMS'] = house_df['BEDROOMS '].copy()  # Note the space after BEDROOMS\n",
    "\n",
    "# Now try creating the 10 missing values again\n",
    "missingRows = house_df.sample(10).index\n",
    "house_df.loc[missingRows, 'BEDROOMS'] = np.nan\n",
    "\n",
    "# Check missing values\n",
    "print(\"\\nNumber of missing values:\", house_df['BEDROOMS'].isna().sum())"
   ]
  },
  {
   "cell_type": "code",
   "execution_count": 74,
   "id": "a34239fd-ead5-440a-99c1-c4f113aef8b0",
   "metadata": {},
   "outputs": [
    {
     "name": "stdout",
     "output_type": "stream",
     "text": [
      "10\n"
     ]
    }
   ],
   "source": [
    "# First, let's remove the duplicate empty column\n",
    "house_df = house_df.drop('BEDROOMS', axis=1)\n",
    "\n",
    "# Then rename the column with the space to remove the space\n",
    "house_df = house_df.rename(columns={'BEDROOMS ': 'BEDROOMS'})\n",
    "\n",
    "# Now try creating the 10 missing values\n",
    "missingRows = house_df.sample(10).index\n",
    "house_df.loc[missingRows, 'BEDROOMS'] = np.nan\n",
    "\n",
    "# Verify\n",
    "print(house_df['BEDROOMS'].isna().sum())  # Should now show 10"
   ]
  },
  {
   "cell_type": "code",
   "execution_count": 75,
   "id": "0d29e9d5-7529-4008-9101-425b51c0bf7a",
   "metadata": {},
   "outputs": [
    {
     "data": {
      "text/plain": [
       "5792"
      ]
     },
     "execution_count": 75,
     "metadata": {},
     "output_type": "execute_result"
    }
   ],
   "source": [
    "house_df['BEDROOMS'].count()"
   ]
  },
  {
   "cell_type": "code",
   "execution_count": 76,
   "id": "5a62efef-cd75-44fc-b57e-3fd881564abb",
   "metadata": {},
   "outputs": [],
   "source": [
    "reduced_df = house_df.dropna() # This removed the values with NA "
   ]
  },
  {
   "cell_type": "code",
   "execution_count": 77,
   "id": "73dd9b5b-9208-4b15-a1d4-9889169f4a46",
   "metadata": {},
   "outputs": [
    {
     "name": "stdout",
     "output_type": "stream",
     "text": [
      "Number of rows after removing the NA Values:  5792\n"
     ]
    }
   ],
   "source": [
    "print(\"Number of rows after removing the NA Values: \", len(reduced_df))"
   ]
  },
  {
   "cell_type": "code",
   "execution_count": 79,
   "id": "4d416db6-4aff-45d4-ab59-35a99bb951a4",
   "metadata": {},
   "outputs": [
    {
     "name": "stdout",
     "output_type": "stream",
     "text": [
      "3.0\n"
     ]
    }
   ],
   "source": [
    "# Now replacing the missing values with the median \n",
    "\n",
    "medianValue = house_df.BEDROOMS.median()\n",
    "print(medianValue)"
   ]
  },
  {
   "cell_type": "code",
   "execution_count": 81,
   "id": "b105b3bc-da72-4321-a5ea-f1793c9ac42c",
   "metadata": {},
   "outputs": [],
   "source": [
    "house_df.BEDROOMS = house_df.BEDROOMS.fillna(value = medianValue)"
   ]
  },
  {
   "cell_type": "code",
   "execution_count": 82,
   "id": "abc270fa-702a-4bed-9962-c0a911a2f361",
   "metadata": {},
   "outputs": [
    {
     "name": "stdout",
     "output_type": "stream",
     "text": [
      "0       False\n",
      "1       False\n",
      "2       False\n",
      "3       False\n",
      "4       False\n",
      "        ...  \n",
      "5797    False\n",
      "5798    False\n",
      "5799    False\n",
      "5800    False\n",
      "5801    False\n",
      "Name: BEDROOMS, Length: 5802, dtype: bool\n"
     ]
    }
   ],
   "source": [
    "print(house_df.BEDROOMS.isna())"
   ]
  },
  {
   "cell_type": "code",
   "execution_count": 87,
   "id": "620f8fd8-fb51-4e25-948a-3e70be6e98ef",
   "metadata": {},
   "outputs": [
    {
     "name": "stdout",
     "output_type": "stream",
     "text": [
      "Number of values with valid Bedroom values:  5802\n"
     ]
    }
   ],
   "source": [
    "#This will count the values that are there in the \n",
    "print(\"Number of values with valid Bedroom values: \", house_df.BEDROOMS.count().sum())"
   ]
  },
  {
   "cell_type": "code",
   "execution_count": 94,
   "id": "386bb44b-44e8-4c65-a57f-9c945b1654a6",
   "metadata": {},
   "outputs": [
    {
     "name": "stdout",
     "output_type": "stream",
     "text": [
      "Number of values that are unique:  [3 4 5 2 1 6 7 9 8]\n"
     ]
    }
   ],
   "source": [
    "print(\"Number of values that are unique: \", house_df.BEDROOMS.unique())"
   ]
  },
  {
   "cell_type": "code",
   "execution_count": 93,
   "id": "66c02455-f8bd-4fa4-8d40-cb9281e43294",
   "metadata": {},
   "outputs": [
    {
     "name": "stdout",
     "output_type": "stream",
     "text": [
      "No of houses have each bedrooms :  BEDROOMS\n",
      "1      30\n",
      "2     818\n",
      "3    3242\n",
      "4    1346\n",
      "5     258\n",
      "6      90\n",
      "7      14\n",
      "8       3\n",
      "9       1\n",
      "Name: count, dtype: int64\n"
     ]
    }
   ],
   "source": [
    "print(\"No of houses have each bedrooms : \", house_df.BEDROOMS.value_counts().sort_index())"
   ]
  },
  {
   "cell_type": "code",
   "execution_count": 92,
   "id": "82c87a82-c770-4d89-a8f1-7fbf4e04fa9b",
   "metadata": {},
   "outputs": [],
   "source": [
    "house_df = house_df.astype({'BEDROOMS' : 'int'})"
   ]
  },
  {
   "cell_type": "code",
   "execution_count": 97,
   "id": "4ef9b06a-8bdb-48d7-bccf-fc0fa3d9803b",
   "metadata": {},
   "outputs": [],
   "source": [
    "# Normalising the dataset \n",
    "\n",
    "df_copy = house_df.copy()\n",
    "\n",
    "#USING PANDAS:\n",
    "norm_df = (house_df - house_df.mean())/house_df.std()"
   ]
  },
  {
   "cell_type": "code",
   "execution_count": 102,
   "id": "cd49722c-0fa8-4610-a88a-5f5a8c81081a",
   "metadata": {},
   "outputs": [],
   "source": [
    "# Using scikit-learn:\n",
    "scaler = StandardScaler()\n",
    "norm1_df = pd.DataFrame(scaler.fit_transform(house_df), index = house_df.index, columns = house_df.columns)"
   ]
  },
  {
   "cell_type": "code",
   "execution_count": 103,
   "id": "d393c707-fd3a-4088-a95f-7e546c10a69e",
   "metadata": {},
   "outputs": [
    {
     "name": "stdout",
     "output_type": "stream",
     "text": [
      "      TOTAL VALUE        TAX  LOT SQFT   YR BUILT  GROSS AREA   LIVING AREA  \\\n",
      "0        -0.488879 -0.488507   1.381019 -1.576690    -0.552998    -0.564458   \n",
      "1         0.200795  0.200789   0.116835  0.229372     0.207196     0.590121   \n",
      "2        -0.631048 -0.631176   0.457697 -1.298834    -0.713635    -0.529303   \n",
      "3         1.067927  1.068020   2.807392  0.562799     2.383704     1.759502   \n",
      "4        -0.616932 -0.616749  -0.478735 -0.743123    -0.627660    -0.405334   \n",
      "...            ...       ...        ...       ...          ...          ...   \n",
      "5797      0.122148  0.122241   0.181262  0.034873    -0.374262     0.105345   \n",
      "5798      0.153405  0.153500   1.172381  0.368300    -0.577886    -0.599614   \n",
      "5799      0.139289  0.139073   0.344576  1.396366    -0.503224     0.031334   \n",
      "5800     -0.846823 -0.846781   0.229207  0.257158    -1.046220    -1.215759   \n",
      "5801      0.553697  0.553452   0.422487  0.368300    -0.469287    -0.105587   \n",
      "\n",
      "       FLOORS      ROOMS  BEDROOMS  FULL BATH  HALF BATH   KITCHEN  FIREPLACE  \\\n",
      "0     0.710905 -0.691980 -0.271039  -0.568528   0.723202 -0.124803  -1.309337   \n",
      "1     0.710905  2.090325  0.910454   1.347035   0.723202 -0.124803  -1.309337   \n",
      "2     0.710905  0.699173  0.910454  -0.568528   0.723202 -0.124803  -1.309337   \n",
      "3    -1.536872  1.394749  2.091948  -0.568528   0.723202 -0.124803   0.460235   \n",
      "4     0.710905  0.003597 -0.271039   1.347035  -1.150021 -0.124803  -1.309337   \n",
      "...        ...       ...       ...        ...        ...       ...        ...   \n",
      "5797  0.710905  1.394749 -0.271039   1.347035   0.723202 -0.124803   0.460235   \n",
      "5798  0.710905 -0.691980 -0.271039  -0.568528   0.723202 -0.124803   0.460235   \n",
      "5799  0.710905  0.003597 -0.271039  -0.568528   0.723202 -0.124803   0.460235   \n",
      "5800 -1.536872 -1.387556 -1.452532  -0.568528  -1.150021 -0.124803  -1.309337   \n",
      "5801  0.710905  0.003597 -0.271039  -0.568528   0.723202 -0.124803   0.460235   \n",
      "\n",
      "      REMODEL_New  \n",
      "0       -0.421381  \n",
      "1        2.372738  \n",
      "2       -0.421381  \n",
      "3       -0.421381  \n",
      "4       -0.421381  \n",
      "...           ...  \n",
      "5797     2.372738  \n",
      "5798    -0.421381  \n",
      "5799    -0.421381  \n",
      "5800    -0.421381  \n",
      "5801    -0.421381  \n",
      "\n",
      "[5802 rows x 14 columns]\n"
     ]
    }
   ],
   "source": [
    "print(norm_df)"
   ]
  },
  {
   "cell_type": "code",
   "execution_count": 104,
   "id": "0d6cd108-13ff-4797-a791-ab26ba5acb8b",
   "metadata": {},
   "outputs": [],
   "source": [
    "# Rescaling a DataFrame \n",
    "\n",
    "norm_df = (house_df - house_df.min())/(house_df.max() - house_df.min())"
   ]
  },
  {
   "cell_type": "code",
   "execution_count": 105,
   "id": "c6fcbd73-0b0a-4144-92bc-c968353bf6de",
   "metadata": {},
   "outputs": [
    {
     "name": "stdout",
     "output_type": "stream",
     "text": [
      "      TOTAL VALUE        TAX  LOT SQFT   YR BUILT  GROSS AREA   LIVING AREA  \\\n",
      "0         0.214953  0.215015   0.197472  0.934858     0.220237     0.177220   \n",
      "1         0.276420  0.276448   0.123156  0.967181     0.311878     0.307628   \n",
      "2         0.202283  0.202300   0.143194  0.939831     0.200873     0.181191   \n",
      "3         0.353702  0.353740   0.281323  0.973148     0.574253     0.439707   \n",
      "4         0.203541  0.203586   0.088145  0.949776     0.211237     0.195193   \n",
      "...            ...       ...        ...       ...          ...          ...   \n",
      "5797      0.269410  0.269448   0.126943  0.963700     0.241784     0.252874   \n",
      "5798      0.272196  0.272234   0.185207  0.969667     0.217237     0.173250   \n",
      "5799      0.270938  0.270948   0.136544  0.988066     0.226238     0.244514   \n",
      "5800      0.183052  0.183085   0.129762  0.967678     0.160780     0.103657   \n",
      "5801      0.307872  0.307879   0.141124  0.969667     0.230329     0.229049   \n",
      "\n",
      "      FLOORS      ROOMS  BEDROOMS  FULL BATH  HALF BATH  KITCHEN  FIREPLACE  \\\n",
      "0         0.5  0.272727     0.250       0.00   0.333333      0.0       0.00   \n",
      "1         0.5  0.636364     0.375       0.25   0.333333      0.0       0.00   \n",
      "2         0.5  0.454545     0.375       0.00   0.333333      0.0       0.00   \n",
      "3         0.0  0.545455     0.500       0.00   0.333333      0.0       0.25   \n",
      "4         0.5  0.363636     0.250       0.25   0.000000      0.0       0.00   \n",
      "...       ...       ...       ...        ...        ...      ...        ...   \n",
      "5797      0.5  0.545455     0.250       0.25   0.333333      0.0       0.25   \n",
      "5798      0.5  0.272727     0.250       0.00   0.333333      0.0       0.25   \n",
      "5799      0.5  0.363636     0.250       0.00   0.333333      0.0       0.25   \n",
      "5800      0.0  0.181818     0.125       0.00   0.000000      0.0       0.00   \n",
      "5801      0.5  0.363636     0.250       0.00   0.333333      0.0       0.25   \n",
      "\n",
      "      REMODEL_New  \n",
      "0             0.0  \n",
      "1             1.0  \n",
      "2             0.0  \n",
      "3             0.0  \n",
      "4             0.0  \n",
      "...           ...  \n",
      "5797          1.0  \n",
      "5798          0.0  \n",
      "5799          0.0  \n",
      "5800          0.0  \n",
      "5801          0.0  \n",
      "\n",
      "[5802 rows x 14 columns]\n"
     ]
    }
   ],
   "source": [
    "print(norm_df)"
   ]
  },
  {
   "cell_type": "code",
   "execution_count": null,
   "id": "d9ead690-84f7-4f1e-a412-e03bf3fbdeb8",
   "metadata": {},
   "outputs": [],
   "source": [
    "# thus Normalizing is done to bring dataset on the similar scale"
   ]
  },
  {
   "cell_type": "code",
   "execution_count": null,
   "id": "14e9ca3c-38e6-4a73-a086-a90e30d2a837",
   "metadata": {},
   "outputs": [],
   "source": [
    "# formula is - [dataframe - dataframe.mean()]/dataframe.std()"
   ]
  },
  {
   "cell_type": "code",
   "execution_count": null,
   "id": "80f60cba-201b-4302-a43f-7f309bfa21f6",
   "metadata": {},
   "outputs": [],
   "source": [
    "# and Rescaling is also done to bring dataset on the same scale i.e, of [0,1]"
   ]
  },
  {
   "cell_type": "code",
   "execution_count": null,
   "id": "a325512f-887e-45f0-8777-39851104cac0",
   "metadata": {},
   "outputs": [],
   "source": [
    "# formula is - [dataframe - dataframe.min()]/[dataframe.max() - dataframe.min()]"
   ]
  },
  {
   "cell_type": "code",
   "execution_count": null,
   "id": "60a9df82-c2f0-4bae-b184-61b4136f063a",
   "metadata": {},
   "outputs": [],
   "source": [
    "# Data Partioning "
   ]
  },
  {
   "cell_type": "code",
   "execution_count": null,
   "id": "73dcf48a-696d-4bff-8020-0053556e6a11",
   "metadata": {},
   "outputs": [],
   "source": []
  },
  {
   "cell_type": "code",
   "execution_count": 6,
   "id": "762841ef-2afb-4c00-bd68-ad535e6c6627",
   "metadata": {},
   "outputs": [
    {
     "name": "stdout",
     "output_type": "stream",
     "text": [
      "Training : (3481, 14)\n",
      "Validation : (2321, 14)\n"
     ]
    }
   ],
   "source": [
    "trainData, validData = train_test_split(house_df, test_size=0.40, random_state=1)\n",
    "print(\"Training :\", trainData.shape)\n",
    "print(\"Validation :\", validData.shape)\n",
    "\n",
    "# in this example 40% of the data will go to the Validation (as Valid data is the last variable while assigning) and\n",
    "#60% will go to the Training "
   ]
  },
  {
   "cell_type": "code",
   "execution_count": 7,
   "id": "8155a0ea-2056-447e-83b8-0d04ab2dca17",
   "metadata": {},
   "outputs": [
    {
     "name": "stdout",
     "output_type": "stream",
     "text": [
      "Training : (2321, 14)\n",
      "Validation : (3481, 14)\n"
     ]
    }
   ],
   "source": [
    "validData1, trainData1 = train_test_split(house_df, test_size=0.40, random_state=1)\n",
    "print(\"Training :\", trainData1.shape)\n",
    "print(\"Validation :\", validData1.shape)\n",
    "\n",
    "#Now I switched the position that makes the result different and now its reveresed"
   ]
  },
  {
   "cell_type": "code",
   "execution_count": 117,
   "id": "2b503397-4723-421d-8445-97e7201414ab",
   "metadata": {},
   "outputs": [
    {
     "name": "stdout",
     "output_type": "stream",
     "text": [
      "Training   : (2901, 14)\n",
      "Validation : (1740, 14)\n",
      "Testing    : (1161, 14)\n",
      "Total Size : 5802\n"
     ]
    }
   ],
   "source": [
    "trainData, temp = train_test_split(house_df, test_size = 0.50, random_state = 1)\n",
    "validData, testData = train_test_split(temp, test_size = 0.40, random_state = 1)\n",
    "\n",
    "print(\"Training   :\", trainData.shape)\n",
    "print(\"Validation :\", validData.shape)\n",
    "print(\"Testing    :\", testData.shape)\n",
    "print(\"Total Size :\", len(house_df))\n",
    "\n",
    "# This means trainData got 50% and temp initially got 50%\n",
    "# Then the data in temp is divided further in valid data and test data \n",
    "# Valid data : 60% of tempdata (50% of the total data)\n",
    "# Test Data : 40% of the remaining temp data."
   ]
  },
  {
   "cell_type": "markdown",
   "id": "57b411c3-7e75-4d29-93b1-7b2212c02b5b",
   "metadata": {},
   "source": []
  },
  {
   "cell_type": "code",
   "execution_count": 8,
   "id": "d1d36465-bda5-4e15-a3d5-88c2a1dae464",
   "metadata": {},
   "outputs": [],
   "source": [
    "from sklearn.linear_model import LinearRegression"
   ]
  },
  {
   "cell_type": "code",
   "execution_count": null,
   "id": "ede62ad6-2768-4fdc-92b0-cbc2ad1e2454",
   "metadata": {},
   "outputs": [],
   "source": [
    "# Data Loading and Preprocessing"
   ]
  },
  {
   "cell_type": "code",
   "execution_count": 9,
   "id": "6e7c3604-0fc2-4d19-8196-33fec871b97f",
   "metadata": {},
   "outputs": [
    {
     "name": "stdout",
     "output_type": "stream",
     "text": [
      "<class 'pandas.core.frame.DataFrame'>\n",
      "RangeIndex: 5802 entries, 0 to 5801\n",
      "Data columns (total 14 columns):\n",
      " #   Column        Non-Null Count  Dtype  \n",
      "---  ------        --------------  -----  \n",
      " 0   TOTAL VALUE   5802 non-null   float64\n",
      " 1   TAX           5802 non-null   int64  \n",
      " 2   LOT SQFT      5802 non-null   int64  \n",
      " 3   YR BUILT      5802 non-null   int64  \n",
      " 4   GROSS AREA    5802 non-null   int64  \n",
      " 5   LIVING AREA   5802 non-null   int64  \n",
      " 6   FLOORS        5802 non-null   float64\n",
      " 7   ROOMS         5802 non-null   int64  \n",
      " 8   BEDROOMS      5802 non-null   int64  \n",
      " 9   FULL BATH     5802 non-null   int64  \n",
      " 10  HALF BATH     5802 non-null   int64  \n",
      " 11  KITCHEN       5802 non-null   int64  \n",
      " 12  FIREPLACE     5802 non-null   int64  \n",
      " 13  REMODEL       1456 non-null   object \n",
      "dtypes: float64(2), int64(11), object(1)\n",
      "memory usage: 634.7+ KB\n"
     ]
    }
   ],
   "source": [
    "df = pd.read_csv(\"WestRoxbury.csv\")\n",
    "df.shape\n",
    "df.info()"
   ]
  },
  {
   "cell_type": "code",
   "execution_count": 10,
   "id": "833109d5-f74e-4cec-bab4-7aafac0eb2d7",
   "metadata": {},
   "outputs": [],
   "source": [
    "df.columns = [s.strip().replace('','_') for s in df.columns]\n",
    "df = pd.get_dummies(df, prefix_sep='_', drop_first = True)"
   ]
  },
  {
   "cell_type": "code",
   "execution_count": 11,
   "id": "4522044d-17c0-4d08-9984-15fe81741996",
   "metadata": {},
   "outputs": [],
   "source": [
    "#Create list of predictors and outcomes"
   ]
  },
  {
   "cell_type": "code",
   "execution_count": 12,
   "id": "60aa88df-d118-4eb4-9b07-25e1efc2acad",
   "metadata": {},
   "outputs": [],
   "source": [
    "excludeColumns = ('TOTAL_VALUE', 'TAX')\n",
    "predictors = [s for s in df.columns if s not in excludeColumns]\n",
    "outcome = \"TOTAL_VALUE\""
   ]
  },
  {
   "cell_type": "code",
   "execution_count": 13,
   "id": "735536cc-c230-4baa-91c7-a0f0bafd5346",
   "metadata": {},
   "outputs": [],
   "source": [
    "#Partition data"
   ]
  },
  {
   "cell_type": "code",
   "execution_count": 14,
   "id": "205f50bf-10b8-4750-a637-ac34df8bf4cf",
   "metadata": {},
   "outputs": [
    {
     "data": {
      "text/html": [
       "<div>\n",
       "<style scoped>\n",
       "    .dataframe tbody tr th:only-of-type {\n",
       "        vertical-align: middle;\n",
       "    }\n",
       "\n",
       "    .dataframe tbody tr th {\n",
       "        vertical-align: top;\n",
       "    }\n",
       "\n",
       "    .dataframe thead th {\n",
       "        text-align: right;\n",
       "    }\n",
       "</style>\n",
       "<table border=\"1\" class=\"dataframe\">\n",
       "  <thead>\n",
       "    <tr style=\"text-align: right;\">\n",
       "      <th></th>\n",
       "      <th>TOTAL_VALUE</th>\n",
       "      <th>predicted</th>\n",
       "      <th>residual</th>\n",
       "    </tr>\n",
       "  </thead>\n",
       "  <tbody>\n",
       "    <tr>\n",
       "      <th>2024</th>\n",
       "      <td>392.0</td>\n",
       "      <td>388.204648</td>\n",
       "      <td>3.795352</td>\n",
       "    </tr>\n",
       "    <tr>\n",
       "      <th>5140</th>\n",
       "      <td>476.3</td>\n",
       "      <td>430.707903</td>\n",
       "      <td>45.592097</td>\n",
       "    </tr>\n",
       "    <tr>\n",
       "      <th>5259</th>\n",
       "      <td>367.4</td>\n",
       "      <td>384.572908</td>\n",
       "      <td>-17.172908</td>\n",
       "    </tr>\n",
       "    <tr>\n",
       "      <th>421</th>\n",
       "      <td>350.3</td>\n",
       "      <td>369.819105</td>\n",
       "      <td>-19.519105</td>\n",
       "    </tr>\n",
       "    <tr>\n",
       "      <th>1401</th>\n",
       "      <td>348.1</td>\n",
       "      <td>310.493153</td>\n",
       "      <td>37.606847</td>\n",
       "    </tr>\n",
       "  </tbody>\n",
       "</table>\n",
       "</div>"
      ],
      "text/plain": [
       "      TOTAL_VALUE   predicted   residual\n",
       "2024        392.0  388.204648   3.795352\n",
       "5140        476.3  430.707903  45.592097\n",
       "5259        367.4  384.572908 -17.172908\n",
       "421         350.3  369.819105 -19.519105\n",
       "1401        348.1  310.493153  37.606847"
      ]
     },
     "execution_count": 14,
     "metadata": {},
     "output_type": "execute_result"
    }
   ],
   "source": [
    "import pandas as pd\n",
    "from sklearn.model_selection import train_test_split\n",
    "from sklearn.linear_model import LinearRegression\n",
    "\n",
    "# Read and prepare data\n",
    "df = pd.read_csv(\"WestRoxbury.csv\")\n",
    "\n",
    "# Clean column names - note that replace('','_') won't do anything since it's replacing empty string\n",
    "# You might want to replace spaces instead:\n",
    "df.columns = [s.strip().replace(' ','_') for s in df.columns]\n",
    "\n",
    "# Create dummy variables\n",
    "df = pd.get_dummies(df, prefix_sep='_', drop_first=True)\n",
    "\n",
    "# Define features and target\n",
    "excludeColumns = ('TOTAL_VALUE', 'TAX')\n",
    "predictors = [s for s in df.columns if s not in excludeColumns]\n",
    "outcome = \"TOTAL_VALUE\"\n",
    "\n",
    "# Split features and target\n",
    "X = df[predictors]\n",
    "y = df[outcome]\n",
    "\n",
    "# Split data - note the typo in random_state\n",
    "train_x, valid_x, train_y, valid_y = train_test_split(X, y, test_size=0.4, random_state=1)\n",
    "\n",
    "# Train model\n",
    "model = LinearRegression()\n",
    "model.fit(train_x, train_y)\n",
    "\n",
    "# Make predictions and create results DataFrame\n",
    "train_pred = model.predict(train_x)\n",
    "train_results = pd.DataFrame({\n",
    "    \"TOTAL_VALUE\": train_y, \n",
    "    'predicted': train_pred, \n",
    "    'residual': train_y - train_pred\n",
    "})\n",
    "\n",
    "train_results.head()"
   ]
  },
  {
   "cell_type": "code",
   "execution_count": 15,
   "id": "d5b7fef3-cb9d-4af5-a79b-12985e22977f",
   "metadata": {},
   "outputs": [],
   "source": [
    "#Predictions for a sample of validation data"
   ]
  },
  {
   "cell_type": "code",
   "execution_count": 20,
   "id": "79a48b82-37e4-4974-b452-39f081dc48b4",
   "metadata": {},
   "outputs": [
    {
     "data": {
      "text/html": [
       "<div>\n",
       "<style scoped>\n",
       "    .dataframe tbody tr th:only-of-type {\n",
       "        vertical-align: middle;\n",
       "    }\n",
       "\n",
       "    .dataframe tbody tr th {\n",
       "        vertical-align: top;\n",
       "    }\n",
       "\n",
       "    .dataframe thead th {\n",
       "        text-align: right;\n",
       "    }\n",
       "</style>\n",
       "<table border=\"1\" class=\"dataframe\">\n",
       "  <thead>\n",
       "    <tr style=\"text-align: right;\">\n",
       "      <th></th>\n",
       "      <th>TOTAL_VALUE</th>\n",
       "      <th>predicted</th>\n",
       "      <th>residual</th>\n",
       "    </tr>\n",
       "  </thead>\n",
       "  <tbody>\n",
       "    <tr>\n",
       "      <th>1822</th>\n",
       "      <td>462.0</td>\n",
       "      <td>407.428545</td>\n",
       "      <td>54.571455</td>\n",
       "    </tr>\n",
       "    <tr>\n",
       "      <th>1998</th>\n",
       "      <td>370.4</td>\n",
       "      <td>363.418289</td>\n",
       "      <td>6.981711</td>\n",
       "    </tr>\n",
       "    <tr>\n",
       "      <th>5126</th>\n",
       "      <td>407.4</td>\n",
       "      <td>390.743753</td>\n",
       "      <td>16.656247</td>\n",
       "    </tr>\n",
       "    <tr>\n",
       "      <th>808</th>\n",
       "      <td>316.1</td>\n",
       "      <td>383.045464</td>\n",
       "      <td>-66.945464</td>\n",
       "    </tr>\n",
       "    <tr>\n",
       "      <th>4034</th>\n",
       "      <td>393.2</td>\n",
       "      <td>434.999519</td>\n",
       "      <td>-41.799519</td>\n",
       "    </tr>\n",
       "  </tbody>\n",
       "</table>\n",
       "</div>"
      ],
      "text/plain": [
       "      TOTAL_VALUE   predicted   residual\n",
       "1822        462.0  407.428545  54.571455\n",
       "1998        370.4  363.418289   6.981711\n",
       "5126        407.4  390.743753  16.656247\n",
       "808         316.1  383.045464 -66.945464\n",
       "4034        393.2  434.999519 -41.799519"
      ]
     },
     "execution_count": 20,
     "metadata": {},
     "output_type": "execute_result"
    }
   ],
   "source": [
    "valid_pred = model.predict(valid_x)\n",
    "valid_results = pd.DataFrame({\n",
    "    'TOTAL_VALUE' : valid_y,\n",
    "    'predicted' : valid_pred,\n",
    "    'residual' : valid_y - valid_pred\n",
    "})\n",
    "\n",
    "valid_results.head()"
   ]
  },
  {
   "cell_type": "code",
   "execution_count": 21,
   "id": "3ba12b61-43cb-44e4-b1e7-351e340fea93",
   "metadata": {},
   "outputs": [
    {
     "name": "stdout",
     "output_type": "stream",
     "text": [
      "Training Set\n",
      "\n",
      "Regression statistics\n",
      "\n",
      "                      Mean Error (ME) : -0.0000\n",
      "       Root Mean Squared Error (RMSE) : 43.0511\n",
      "            Mean Absolute Error (MAE) : 32.6190\n",
      "          Mean Percentage Error (MPE) : -1.1127\n",
      "Mean Absolute Percentage Error (MAPE) : 8.4921\n",
      "\n",
      "Validation Set\n",
      "\n",
      "Regression statistics\n",
      "\n",
      "                      Mean Error (ME) : -0.0996\n",
      "       Root Mean Squared Error (RMSE) : 42.7372\n",
      "            Mean Absolute Error (MAE) : 31.9495\n",
      "          Mean Percentage Error (MPE) : -1.0815\n",
      "Mean Absolute Percentage Error (MAPE) : 8.3228\n"
     ]
    }
   ],
   "source": [
    "from dmba import regressionSummary\n",
    "\n",
    "# Create predictions for validation set first\n",
    "valid_pred = model.predict(valid_x)\n",
    "\n",
    "# Create validation results DataFrame\n",
    "valid_results = pd.DataFrame({\n",
    "    \"TOTAL_VALUE\": valid_y,\n",
    "    'predicted': valid_pred,\n",
    "    'residual': valid_y - valid_pred\n",
    "})\n",
    "\n",
    "# Now print summaries for both sets\n",
    "print(\"Training Set\")\n",
    "regressionSummary(train_results.TOTAL_VALUE, train_results.predicted)\n",
    "print(\"\\nValidation Set\")\n",
    "regressionSummary(valid_results.TOTAL_VALUE, valid_results.predicted)"
   ]
  },
  {
   "cell_type": "code",
   "execution_count": null,
   "id": "5c419f12-33d0-4299-a0e7-1662b78969ab",
   "metadata": {},
   "outputs": [],
   "source": []
  }
 ],
 "metadata": {
  "kernelspec": {
   "display_name": "Python 3 (ipykernel)",
   "language": "python",
   "name": "python3"
  },
  "language_info": {
   "codemirror_mode": {
    "name": "ipython",
    "version": 3
   },
   "file_extension": ".py",
   "mimetype": "text/x-python",
   "name": "python",
   "nbconvert_exporter": "python",
   "pygments_lexer": "ipython3",
   "version": "3.12.7"
  }
 },
 "nbformat": 4,
 "nbformat_minor": 5
}
