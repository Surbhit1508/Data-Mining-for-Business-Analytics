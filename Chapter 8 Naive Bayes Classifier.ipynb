{
 "cells": [
  {
   "cell_type": "code",
   "execution_count": 3,
   "id": "0b6f3e5c-e11e-487c-bba9-5c25b3993592",
   "metadata": {},
   "outputs": [],
   "source": [
    "import numpy as np\n",
    "from sklearn.naive_bayes import GaussianNB\n",
    "from sklearn.datasets import make_classification\n",
    "from sklearn.model_selection import train_test_split"
   ]
  },
  {
   "cell_type": "code",
   "execution_count": 4,
   "id": "cc36ae8f-c0bc-4217-8155-5fee3ea4b1be",
   "metadata": {},
   "outputs": [
    {
     "name": "stdout",
     "output_type": "stream",
     "text": [
      "Accuracy: 0.80\n",
      "\n",
      "Probability estimates for first 5 samples:\n",
      "[[0.95352414 0.04647586]\n",
      " [0.0165542  0.9834458 ]\n",
      " [0.86480177 0.13519823]\n",
      " [0.87486561 0.12513439]\n",
      " [0.03083089 0.96916911]]\n"
     ]
    }
   ],
   "source": [
    "# Generate sample data\n",
    "X, y = make_classification(\n",
    "    n_samples=1000,\n",
    "    n_features=20,\n",
    "    n_informative=15,\n",
    "    n_redundant=5,\n",
    "    random_state=42\n",
    ")\n",
    "\n",
    "# Split the data\n",
    "X_train, X_test, y_train, y_test = train_test_split(\n",
    "    X, y, test_size=0.2, random_state=42\n",
    ")\n",
    "\n",
    "# Create and train the Naive Bayes model\n",
    "nb = GaussianNB()\n",
    "nb.fit(X_train, y_train)\n",
    "\n",
    "# Make predictions\n",
    "predictions = nb.predict(X_test)\n",
    "accuracy = (predictions == y_test).mean()\n",
    "print(f\"Accuracy: {accuracy:.2f}\")\n",
    "\n",
    "# Get probability estimates\n",
    "probabilities = nb.predict_proba(X_test[:5])\n",
    "print(\"\\nProbability estimates for first 5 samples:\")\n",
    "print(probabilities)"
   ]
  },
  {
   "cell_type": "code",
   "execution_count": 5,
   "id": "8002567a-941b-4f1e-8666-005cb934b8eb",
   "metadata": {},
   "outputs": [],
   "source": [
    "class SimpleNaiveBayes:\n",
    "    def fit(self, X, y):\n",
    "        n_samples, n_features = X.shape\n",
    "        self.classes = np.unique(y)\n",
    "        n_classes = len(self.classes)\n",
    "        \n",
    "        # Calculate prior probabilities P(y)\n",
    "        self.priors = {}\n",
    "        for cls in self.classes:\n",
    "            self.priors[cls] = np.mean(y == cls)\n",
    "        \n",
    "        # Calculate mean and variance for P(x|y)\n",
    "        self.mean = np.zeros((n_classes, n_features))\n",
    "        self.var = np.zeros((n_classes, n_features))\n",
    "        \n",
    "        for idx, cls in enumerate(self.classes):\n",
    "            X_cls = X[y == cls]\n",
    "            self.mean[idx, :] = X_cls.mean(axis=0)\n",
    "            self.var[idx, :] = X_cls.var(axis=0)\n",
    "    \n",
    "    def _calculate_likelihood(self, x, mean, var):\n",
    "        # Gaussian likelihood\n",
    "        exponent = np.exp(-((x - mean) ** 2) / (2 * var))\n",
    "        return np.prod(1 / np.sqrt(2 * np.pi * var) * exponent)\n",
    "    \n",
    "    def predict(self, X):\n",
    "        predictions = []\n",
    "        \n",
    "        for x in X:\n",
    "            posteriors = []\n",
    "            \n",
    "            # Calculate posterior probability for each class\n",
    "            for idx, cls in enumerate(self.classes):\n",
    "                prior = self.priors[cls]\n",
    "                likelihood = self._calculate_likelihood(x, self.mean[idx, :], self.var[idx, :])\n",
    "                posterior = prior * likelihood\n",
    "                posteriors.append(posterior)\n",
    "            \n",
    "            # Select class with highest posterior probability\n",
    "            predictions.append(self.classes[np.argmax(posteriors)])\n",
    "            \n",
    "        return np.array(predictions)"
   ]
  },
  {
   "cell_type": "code",
   "execution_count": 6,
   "id": "0906f780-8a70-4c29-a272-98f5d1f41d34",
   "metadata": {},
   "outputs": [],
   "source": [
    "# BASIS OF NAIVE BAYES IT IS AROUND BAYES THEOREM \n",
    "# P(y|X) = P(X|y) * P(y) / P(X)"
   ]
  },
  {
   "cell_type": "code",
   "execution_count": null,
   "id": "cbd1d637-d0e7-4e58-bbb4-1b5e610d62ea",
   "metadata": {},
   "outputs": [],
   "source": [
    "# from sklearn.naive_bayes import GaussianNB  # For continuous data\n",
    "# from sklearn.naive_bayes import MultinomialNB  # For discrete counts (text)\n",
    "# from sklearn.naive_bayes import BernoulliNB  # For binary features"
   ]
  },
  {
   "cell_type": "code",
   "execution_count": 7,
   "id": "660e8f03-e1e4-470f-a6ea-f4ca26358f6f",
   "metadata": {},
   "outputs": [
    {
     "name": "stdout",
     "output_type": "stream",
     "text": [
      "Prediction: Positive\n"
     ]
    }
   ],
   "source": [
    "from sklearn.feature_extraction.text import CountVectorizer\n",
    "from sklearn.naive_bayes import MultinomialNB\n",
    "\n",
    "# Sample text data\n",
    "texts = [\n",
    "    \"The movie was great\",\n",
    "    \"Terrible film, waste of time\",\n",
    "    \"I loved the movie\",\n",
    "    \"Poor acting, bad plot\"\n",
    "]\n",
    "labels = [1, 0, 1, 0]  # 1 for positive, 0 for negative\n",
    "\n",
    "# Convert text to feature vectors\n",
    "vectorizer = CountVectorizer()\n",
    "X = vectorizer.fit_transform(texts)\n",
    "\n",
    "# Train Naive Bayes\n",
    "nb = MultinomialNB()\n",
    "nb.fit(X, labels)\n",
    "\n",
    "# Predict new text\n",
    "new_text = [\"This movie was awesome\"]\n",
    "new_X = vectorizer.transform(new_text)\n",
    "prediction = nb.predict(new_X)\n",
    "print(f\"Prediction: {'Positive' if prediction[0] == 1 else 'Negative'}\")"
   ]
  },
  {
   "cell_type": "code",
   "execution_count": null,
   "id": "4e315797-c74c-4a9d-904d-5ebc6fc8585c",
   "metadata": {},
   "outputs": [],
   "source": []
  }
 ],
 "metadata": {
  "kernelspec": {
   "display_name": "Python 3 (ipykernel)",
   "language": "python",
   "name": "python3"
  },
  "language_info": {
   "codemirror_mode": {
    "name": "ipython",
    "version": 3
   },
   "file_extension": ".py",
   "mimetype": "text/x-python",
   "name": "python",
   "nbconvert_exporter": "python",
   "pygments_lexer": "ipython3",
   "version": "3.12.7"
  }
 },
 "nbformat": 4,
 "nbformat_minor": 5
}
